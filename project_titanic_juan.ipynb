{
 "cells": [
  {
   "cell_type": "markdown",
   "metadata": {},
   "source": [
    "<h1 style=\"text-align: center;\">Projeto de Análise de Dados - Titanic</h1>"
   ]
  },
  {
   "cell_type": "markdown",
   "metadata": {},
   "source": [
    "Esse projeto é referente a análise de dados dos passageiros do naufrágio do navio Titanic. A ideia aqui é através da analise desses dados respordermos algumas perguntas referentes ao naufrágio. "
   ]
  },
  {
   "cell_type": "markdown",
   "metadata": {},
   "source": [
    "<p><img src=\"https://upload.wikimedia.org/wikipedia/commons/thumb/d/db/Titanic-Cobh-Harbour-1912.JPG/330px-Titanic-Cobh-Harbour-1912.JPG\"></p>\n"
   ]
  },
  {
   "cell_type": "code",
   "execution_count": 3,
   "metadata": {},
   "outputs": [
    {
     "data": {
      "text/html": [
       "<div>\n",
       "<style scoped>\n",
       "    .dataframe tbody tr th:only-of-type {\n",
       "        vertical-align: middle;\n",
       "    }\n",
       "\n",
       "    .dataframe tbody tr th {\n",
       "        vertical-align: top;\n",
       "    }\n",
       "\n",
       "    .dataframe thead th {\n",
       "        text-align: right;\n",
       "    }\n",
       "</style>\n",
       "<table border=\"1\" class=\"dataframe\">\n",
       "  <thead>\n",
       "    <tr style=\"text-align: right;\">\n",
       "      <th></th>\n",
       "      <th>PassengerId</th>\n",
       "      <th>Survived</th>\n",
       "      <th>Pclass</th>\n",
       "      <th>Name</th>\n",
       "      <th>Sex</th>\n",
       "      <th>Age</th>\n",
       "      <th>SibSp</th>\n",
       "      <th>Parch</th>\n",
       "      <th>Ticket</th>\n",
       "      <th>Fare</th>\n",
       "      <th>Cabin</th>\n",
       "      <th>Embarked</th>\n",
       "    </tr>\n",
       "  </thead>\n",
       "  <tbody>\n",
       "    <tr>\n",
       "      <th>0</th>\n",
       "      <td>1</td>\n",
       "      <td>0</td>\n",
       "      <td>3</td>\n",
       "      <td>Braund, Mr. Owen Harris</td>\n",
       "      <td>male</td>\n",
       "      <td>22.0</td>\n",
       "      <td>1</td>\n",
       "      <td>0</td>\n",
       "      <td>A/5 21171</td>\n",
       "      <td>7.2500</td>\n",
       "      <td>NaN</td>\n",
       "      <td>S</td>\n",
       "    </tr>\n",
       "    <tr>\n",
       "      <th>1</th>\n",
       "      <td>2</td>\n",
       "      <td>1</td>\n",
       "      <td>1</td>\n",
       "      <td>Cumings, Mrs. John Bradley (Florence Briggs Th...</td>\n",
       "      <td>female</td>\n",
       "      <td>38.0</td>\n",
       "      <td>1</td>\n",
       "      <td>0</td>\n",
       "      <td>PC 17599</td>\n",
       "      <td>71.2833</td>\n",
       "      <td>C85</td>\n",
       "      <td>C</td>\n",
       "    </tr>\n",
       "    <tr>\n",
       "      <th>2</th>\n",
       "      <td>3</td>\n",
       "      <td>1</td>\n",
       "      <td>3</td>\n",
       "      <td>Heikkinen, Miss. Laina</td>\n",
       "      <td>female</td>\n",
       "      <td>26.0</td>\n",
       "      <td>0</td>\n",
       "      <td>0</td>\n",
       "      <td>STON/O2. 3101282</td>\n",
       "      <td>7.9250</td>\n",
       "      <td>NaN</td>\n",
       "      <td>S</td>\n",
       "    </tr>\n",
       "    <tr>\n",
       "      <th>3</th>\n",
       "      <td>4</td>\n",
       "      <td>1</td>\n",
       "      <td>1</td>\n",
       "      <td>Futrelle, Mrs. Jacques Heath (Lily May Peel)</td>\n",
       "      <td>female</td>\n",
       "      <td>35.0</td>\n",
       "      <td>1</td>\n",
       "      <td>0</td>\n",
       "      <td>113803</td>\n",
       "      <td>53.1000</td>\n",
       "      <td>C123</td>\n",
       "      <td>S</td>\n",
       "    </tr>\n",
       "    <tr>\n",
       "      <th>4</th>\n",
       "      <td>5</td>\n",
       "      <td>0</td>\n",
       "      <td>3</td>\n",
       "      <td>Allen, Mr. William Henry</td>\n",
       "      <td>male</td>\n",
       "      <td>35.0</td>\n",
       "      <td>0</td>\n",
       "      <td>0</td>\n",
       "      <td>373450</td>\n",
       "      <td>8.0500</td>\n",
       "      <td>NaN</td>\n",
       "      <td>S</td>\n",
       "    </tr>\n",
       "  </tbody>\n",
       "</table>\n",
       "</div>"
      ],
      "text/plain": [
       "   PassengerId  Survived  Pclass  \\\n",
       "0            1         0       3   \n",
       "1            2         1       1   \n",
       "2            3         1       3   \n",
       "3            4         1       1   \n",
       "4            5         0       3   \n",
       "\n",
       "                                                Name     Sex   Age  SibSp  \\\n",
       "0                            Braund, Mr. Owen Harris    male  22.0      1   \n",
       "1  Cumings, Mrs. John Bradley (Florence Briggs Th...  female  38.0      1   \n",
       "2                             Heikkinen, Miss. Laina  female  26.0      0   \n",
       "3       Futrelle, Mrs. Jacques Heath (Lily May Peel)  female  35.0      1   \n",
       "4                           Allen, Mr. William Henry    male  35.0      0   \n",
       "\n",
       "   Parch            Ticket     Fare Cabin Embarked  \n",
       "0      0         A/5 21171   7.2500   NaN        S  \n",
       "1      0          PC 17599  71.2833   C85        C  \n",
       "2      0  STON/O2. 3101282   7.9250   NaN        S  \n",
       "3      0            113803  53.1000  C123        S  \n",
       "4      0            373450   8.0500   NaN        S  "
      ]
     },
     "execution_count": 3,
     "metadata": {},
     "output_type": "execute_result"
    }
   ],
   "source": [
    "#-> Importando bibliotecas necessárias e carregando o arquivo de dados.\n",
    "import pandas as pd\n",
    "import numpy as np\n",
    "import matplotlib.pyplot as plt\n",
    "import seaborn as sns\n",
    "% matplotlib inline\n",
    "\n",
    "df_t = pd.read_csv('titanic-data-6.csv')\n",
    "\n",
    "#Verificando os dados carregados\n",
    "df_t.head()"
   ]
  },
  {
   "cell_type": "code",
   "execution_count": 4,
   "metadata": {},
   "outputs": [
    {
     "name": "stdout",
     "output_type": "stream",
     "text": [
      "<class 'pandas.core.frame.DataFrame'>\n",
      "RangeIndex: 891 entries, 0 to 890\n",
      "Data columns (total 12 columns):\n",
      "PassengerId    891 non-null int64\n",
      "Survived       891 non-null int64\n",
      "Pclass         891 non-null int64\n",
      "Name           891 non-null object\n",
      "Sex            891 non-null object\n",
      "Age            714 non-null float64\n",
      "SibSp          891 non-null int64\n",
      "Parch          891 non-null int64\n",
      "Ticket         891 non-null object\n",
      "Fare           891 non-null float64\n",
      "Cabin          204 non-null object\n",
      "Embarked       889 non-null object\n",
      "dtypes: float64(2), int64(5), object(5)\n",
      "memory usage: 83.6+ KB\n"
     ]
    }
   ],
   "source": [
    "#Avaliando os dados\n",
    "df_t.info()"
   ]
  },
  {
   "cell_type": "code",
   "execution_count": 6,
   "metadata": {},
   "outputs": [
    {
     "name": "stdout",
     "output_type": "stream",
     "text": [
      "O arquivo possui 891 amostras e 12 colunas\n"
     ]
    }
   ],
   "source": [
    "#numero de amostras  (linhas e colunas)\n",
    "print(\"O arquivo possui {0} amostras e {1} colunas\".format(\n",
    "        df_t.shape[0], df_t.shape[1] ))"
   ]
  },
  {
   "cell_type": "code",
   "execution_count": 5,
   "metadata": {},
   "outputs": [
    {
     "name": "stdout",
     "output_type": "stream",
     "text": [
      "Colunas com valores Faltantes: \n",
      " ['Age' 'Cabin' 'Embarked'] \n",
      "\n"
     ]
    }
   ],
   "source": [
    "#Colunas com valores faltantes\n",
    "print(\"Colunas com valores Faltantes: \\n {0} \\n\".format(\n",
    "    df_t.columns[df_t.isnull().any()].values))"
   ]
  },
  {
   "cell_type": "code",
   "execution_count": 7,
   "metadata": {},
   "outputs": [
    {
     "name": "stdout",
     "output_type": "stream",
     "text": [
      " Duplicadas: 0 \n"
     ]
    }
   ],
   "source": [
    "#linhas duplicadas\n",
    "print(\" Duplicadas: {0} \".format(\n",
    "        df_t.duplicated().sum()))"
   ]
  },
  {
   "cell_type": "code",
   "execution_count": 8,
   "metadata": {},
   "outputs": [
    {
     "data": {
      "text/html": [
       "<div>\n",
       "<style scoped>\n",
       "    .dataframe tbody tr th:only-of-type {\n",
       "        vertical-align: middle;\n",
       "    }\n",
       "\n",
       "    .dataframe tbody tr th {\n",
       "        vertical-align: top;\n",
       "    }\n",
       "\n",
       "    .dataframe thead th {\n",
       "        text-align: right;\n",
       "    }\n",
       "</style>\n",
       "<table border=\"1\" class=\"dataframe\">\n",
       "  <thead>\n",
       "    <tr style=\"text-align: right;\">\n",
       "      <th></th>\n",
       "      <th>Survived</th>\n",
       "      <th>Pclass</th>\n",
       "      <th>Name</th>\n",
       "      <th>Sex</th>\n",
       "      <th>Age</th>\n",
       "      <th>SibSp</th>\n",
       "      <th>Parch</th>\n",
       "      <th>Ticket</th>\n",
       "      <th>Fare</th>\n",
       "      <th>Cabin</th>\n",
       "      <th>Embarked</th>\n",
       "    </tr>\n",
       "    <tr>\n",
       "      <th>PassengerId</th>\n",
       "      <th></th>\n",
       "      <th></th>\n",
       "      <th></th>\n",
       "      <th></th>\n",
       "      <th></th>\n",
       "      <th></th>\n",
       "      <th></th>\n",
       "      <th></th>\n",
       "      <th></th>\n",
       "      <th></th>\n",
       "      <th></th>\n",
       "    </tr>\n",
       "  </thead>\n",
       "  <tbody>\n",
       "    <tr>\n",
       "      <th>1</th>\n",
       "      <td>0</td>\n",
       "      <td>3</td>\n",
       "      <td>Braund, Mr. Owen Harris</td>\n",
       "      <td>male</td>\n",
       "      <td>22.0</td>\n",
       "      <td>1</td>\n",
       "      <td>0</td>\n",
       "      <td>A/5 21171</td>\n",
       "      <td>7.2500</td>\n",
       "      <td>NaN</td>\n",
       "      <td>S</td>\n",
       "    </tr>\n",
       "    <tr>\n",
       "      <th>2</th>\n",
       "      <td>1</td>\n",
       "      <td>1</td>\n",
       "      <td>Cumings, Mrs. John Bradley (Florence Briggs Th...</td>\n",
       "      <td>female</td>\n",
       "      <td>38.0</td>\n",
       "      <td>1</td>\n",
       "      <td>0</td>\n",
       "      <td>PC 17599</td>\n",
       "      <td>71.2833</td>\n",
       "      <td>C85</td>\n",
       "      <td>C</td>\n",
       "    </tr>\n",
       "    <tr>\n",
       "      <th>3</th>\n",
       "      <td>1</td>\n",
       "      <td>3</td>\n",
       "      <td>Heikkinen, Miss. Laina</td>\n",
       "      <td>female</td>\n",
       "      <td>26.0</td>\n",
       "      <td>0</td>\n",
       "      <td>0</td>\n",
       "      <td>STON/O2. 3101282</td>\n",
       "      <td>7.9250</td>\n",
       "      <td>NaN</td>\n",
       "      <td>S</td>\n",
       "    </tr>\n",
       "    <tr>\n",
       "      <th>4</th>\n",
       "      <td>1</td>\n",
       "      <td>1</td>\n",
       "      <td>Futrelle, Mrs. Jacques Heath (Lily May Peel)</td>\n",
       "      <td>female</td>\n",
       "      <td>35.0</td>\n",
       "      <td>1</td>\n",
       "      <td>0</td>\n",
       "      <td>113803</td>\n",
       "      <td>53.1000</td>\n",
       "      <td>C123</td>\n",
       "      <td>S</td>\n",
       "    </tr>\n",
       "    <tr>\n",
       "      <th>5</th>\n",
       "      <td>0</td>\n",
       "      <td>3</td>\n",
       "      <td>Allen, Mr. William Henry</td>\n",
       "      <td>male</td>\n",
       "      <td>35.0</td>\n",
       "      <td>0</td>\n",
       "      <td>0</td>\n",
       "      <td>373450</td>\n",
       "      <td>8.0500</td>\n",
       "      <td>NaN</td>\n",
       "      <td>S</td>\n",
       "    </tr>\n",
       "  </tbody>\n",
       "</table>\n",
       "</div>"
      ],
      "text/plain": [
       "             Survived  Pclass  \\\n",
       "PassengerId                     \n",
       "1                   0       3   \n",
       "2                   1       1   \n",
       "3                   1       3   \n",
       "4                   1       1   \n",
       "5                   0       3   \n",
       "\n",
       "                                                          Name     Sex   Age  \\\n",
       "PassengerId                                                                    \n",
       "1                                      Braund, Mr. Owen Harris    male  22.0   \n",
       "2            Cumings, Mrs. John Bradley (Florence Briggs Th...  female  38.0   \n",
       "3                                       Heikkinen, Miss. Laina  female  26.0   \n",
       "4                 Futrelle, Mrs. Jacques Heath (Lily May Peel)  female  35.0   \n",
       "5                                     Allen, Mr. William Henry    male  35.0   \n",
       "\n",
       "             SibSp  Parch            Ticket     Fare Cabin Embarked  \n",
       "PassengerId                                                          \n",
       "1                1      0         A/5 21171   7.2500   NaN        S  \n",
       "2                1      0          PC 17599  71.2833   C85        C  \n",
       "3                0      0  STON/O2. 3101282   7.9250   NaN        S  \n",
       "4                1      0            113803  53.1000  C123        S  \n",
       "5                0      0            373450   8.0500   NaN        S  "
      ]
     },
     "execution_count": 8,
     "metadata": {},
     "output_type": "execute_result"
    }
   ],
   "source": [
    "#Melhorando o indice da coluna (utilizando o PassengerId como indice)\n",
    "df_t=pd.read_csv('titanic-data-6.csv', index_col='PassengerId')\n",
    "df_t.head()"
   ]
  },
  {
   "cell_type": "code",
   "execution_count": 9,
   "metadata": {},
   "outputs": [
    {
     "name": "stdout",
     "output_type": "stream",
     "text": [
      "O arquivo possui 11 colunas\n"
     ]
    }
   ],
   "source": [
    "#Verificando a quantidade de colunas agora.\n",
    "print(\"O arquivo possui {0} colunas\".format(\n",
    "       df_t.shape[1] ))"
   ]
  },
  {
   "cell_type": "code",
   "execution_count": 10,
   "metadata": {},
   "outputs": [
    {
     "data": {
      "text/plain": [
       "Survived      2\n",
       "Pclass        3\n",
       "Name        891\n",
       "Sex           2\n",
       "Age          88\n",
       "SibSp         7\n",
       "Parch         7\n",
       "Ticket      681\n",
       "Fare        248\n",
       "Cabin       147\n",
       "Embarked      3\n",
       "dtype: int64"
      ]
     },
     "execution_count": 10,
     "metadata": {},
     "output_type": "execute_result"
    }
   ],
   "source": [
    "#Verificando a quantidade de valores unicos em cada coluna\n",
    "df_t.nunique()"
   ]
  },
  {
   "cell_type": "markdown",
   "metadata": {},
   "source": [
    "Limpeza dos dados"
   ]
  },
  {
   "cell_type": "code",
   "execution_count": 11,
   "metadata": {},
   "outputs": [
    {
     "name": "stdout",
     "output_type": "stream",
     "text": [
      "Colunas com valores Faltantes: \n",
      " ['Cabin' 'Embarked'] \n",
      "\n"
     ]
    }
   ],
   "source": [
    "#Usando a média para prencher os valores faltantes na idade\n",
    "df_t['Age'].fillna(df_t['Age'].mean(), inplace=True)\n",
    "#Colunas com valores faltantes\n",
    "print(\"Colunas com valores Faltantes: \\n {0} \\n\".format(\n",
    "    df_t.columns[df_t.isnull().any()].values))"
   ]
  },
  {
   "cell_type": "code",
   "execution_count": 12,
   "metadata": {},
   "outputs": [
    {
     "data": {
      "text/html": [
       "<div>\n",
       "<style scoped>\n",
       "    .dataframe tbody tr th:only-of-type {\n",
       "        vertical-align: middle;\n",
       "    }\n",
       "\n",
       "    .dataframe tbody tr th {\n",
       "        vertical-align: top;\n",
       "    }\n",
       "\n",
       "    .dataframe thead th {\n",
       "        text-align: right;\n",
       "    }\n",
       "</style>\n",
       "<table border=\"1\" class=\"dataframe\">\n",
       "  <thead>\n",
       "    <tr style=\"text-align: right;\">\n",
       "      <th></th>\n",
       "      <th>survived</th>\n",
       "      <th>pclass</th>\n",
       "      <th>name</th>\n",
       "      <th>sex</th>\n",
       "      <th>age</th>\n",
       "      <th>sibsp</th>\n",
       "      <th>parch</th>\n",
       "      <th>ticket</th>\n",
       "      <th>fare</th>\n",
       "      <th>cabin</th>\n",
       "      <th>embarked</th>\n",
       "    </tr>\n",
       "    <tr>\n",
       "      <th>PassengerId</th>\n",
       "      <th></th>\n",
       "      <th></th>\n",
       "      <th></th>\n",
       "      <th></th>\n",
       "      <th></th>\n",
       "      <th></th>\n",
       "      <th></th>\n",
       "      <th></th>\n",
       "      <th></th>\n",
       "      <th></th>\n",
       "      <th></th>\n",
       "    </tr>\n",
       "  </thead>\n",
       "  <tbody>\n",
       "    <tr>\n",
       "      <th>1</th>\n",
       "      <td>0</td>\n",
       "      <td>3</td>\n",
       "      <td>Braund, Mr. Owen Harris</td>\n",
       "      <td>male</td>\n",
       "      <td>22.0</td>\n",
       "      <td>1</td>\n",
       "      <td>0</td>\n",
       "      <td>A/5 21171</td>\n",
       "      <td>7.25</td>\n",
       "      <td>NaN</td>\n",
       "      <td>S</td>\n",
       "    </tr>\n",
       "  </tbody>\n",
       "</table>\n",
       "</div>"
      ],
      "text/plain": [
       "             survived  pclass                     name   sex   age  sibsp  \\\n",
       "PassengerId                                                                 \n",
       "1                   0       3  Braund, Mr. Owen Harris  male  22.0      1   \n",
       "\n",
       "             parch     ticket  fare cabin embarked  \n",
       "PassengerId                                         \n",
       "1                0  A/5 21171  7.25   NaN        S  "
      ]
     },
     "execution_count": 12,
     "metadata": {},
     "output_type": "execute_result"
    }
   ],
   "source": [
    "#Deixando todos os rótulos em letras minusculas\n",
    "df_t.rename(columns=lambda x:x.strip().lower(), inplace=True)\n",
    "\n",
    "# confirmando as mudanças\n",
    "df_t.head(1)"
   ]
  },
  {
   "cell_type": "code",
   "execution_count": 13,
   "metadata": {},
   "outputs": [
    {
     "name": "stdout",
     "output_type": "stream",
     "text": [
      "491 amostras e 11 colunas\n",
      "Total de Cabines nulas na amostra: 687\n",
      "Total de Cabines nulas da Classe 3: 479\n"
     ]
    }
   ],
   "source": [
    "#Verificando a relação da 3ª Classe com o número da Cabine\n",
    "terceira_classe = df_t.query('pclass == 3')\n",
    "print(\"{0} amostras e {1} colunas\".format(\n",
    "        terceira_classe.shape[0], terceira_classe.shape[1]))\n",
    "print(\"Total de Cabines nulas na amostra: {0}\".format(\n",
    "    sum(df_t['cabin'].isnull())))      \n",
    "print(\"Total de Cabines nulas da Classe 3: {0}\".format(\n",
    "   sum(terceira_classe['cabin'].isnull())))"
   ]
  },
  {
   "cell_type": "code",
   "execution_count": 14,
   "metadata": {},
   "outputs": [
    {
     "name": "stdout",
     "output_type": "stream",
     "text": [
      "Colunas com valores Faltantes: \n",
      " [] \n",
      "\n"
     ]
    }
   ],
   "source": [
    "#Preenchendo valores ausentes automaticamente-Colunas Cabin - Embarked\n",
    "df_t['cabin'].fillna('Sem Cabine', inplace=True)\n",
    "df_t['embarked'].fillna('N', inplace=True) # N = Sem porto de embarcação\n",
    "\n",
    "#Confirmando as mudanças nas colunas com valores faltantes\n",
    "print(\"Colunas com valores Faltantes: \\n {0} \\n\".format(\n",
    "    df_t.columns[df_t.isnull().any()].values))"
   ]
  },
  {
   "cell_type": "markdown",
   "metadata": {},
   "source": [
    "Agora vamos as perguntas!!!!! "
   ]
  },
  {
   "cell_type": "markdown",
   "metadata": {},
   "source": [
    "<h5>Vamos investigar os fatores que fizeram com que algumas pessoas fossem mais propensas a sobreviver!!</h5>"
   ]
  },
  {
   "cell_type": "markdown",
   "metadata": {},
   "source": [
    "**Qual a porcentagem de sobreviventes?**"
   ]
  },
  {
   "cell_type": "code",
   "execution_count": 50,
   "metadata": {},
   "outputs": [
    {
     "name": "stdout",
     "output_type": "stream",
     "text": [
      "Total de sobreviventes: 342\n",
      "Total de mortos: 549\n"
     ]
    }
   ],
   "source": [
    "#Buscando o total de sobreviventes\n",
    "survive = df_t.query('survived == 1')\n",
    "\n",
    "#Buscando o total de não sobreviventes\n",
    "not_survive = df_t.query('survived == 0')\n",
    "\n",
    "print(\"Total de sobreviventes: {}\".format(survive.shape[0]))\n",
    "print(\"Total de mortos: {}\".format(not_survive.shape[0]))"
   ]
  },
  {
   "cell_type": "code",
   "execution_count": 53,
   "metadata": {},
   "outputs": [
    {
     "data": {
      "image/png": "[encoded data removed]",
      "text/plain": [
       "<Figure size 432x288 with 1 Axes>"
      ]
     },
     "metadata": {},
     "output_type": "display_data"
    }
   ],
   "source": [
    "labels = 'Sobreviventes', 'Mortos'\n",
    "total_class = [survive.shape[0], not_survive.shape[0]]\n",
    "explode = (0, 0.1)\n",
    "  \n",
    "fig1, ax1 = plt.subplots()\n",
    "  \n",
    "ax1.pie(total_class, explode=explode, labels=labels, autopct='%1.1f%%',\n",
    "        shadow=True, startangle=90)\n",
    "ax1.axis('equal')\n",
    "ax1.set_title('Sobreviventes e Mortos')\n",
    "  \n",
    "plt.show()"
   ]
  },
  {
   "cell_type": "markdown",
   "metadata": {},
   "source": [
    "**Conclusão** - Ao todo tivemos 38,4% de sobreviventes."
   ]
  },
  {
   "cell_type": "markdown",
   "metadata": {},
   "source": [
    "**Teve mais sobreviventes do sexo masculino ou feminino?**"
   ]
  },
  {
   "cell_type": "code",
   "execution_count": 15,
   "metadata": {},
   "outputs": [
    {
     "name": "stdout",
     "output_type": "stream",
     "text": [
      "Total de sobreviventes: 342\n",
      "Total de Homens sobreviventes: 109\n",
      "Total de Mulheres sobreviventes: 233\n"
     ]
    }
   ],
   "source": [
    "#Buscando a quantidade de sobreviventes, total masculino e total feminino\n",
    "\n",
    "#Verificando o total de sobreviventes por sexo\n",
    "male_survive = survive.query(\"sex == 'male'\")\n",
    "female_survive = survive.query(\"sex == 'female'\")\n",
    "\n",
    "print(\"Total de Homens sobreviventes: {0}\".format(male_survive.shape[0]))\n",
    "print(\"Total de Mulheres sobreviventes: {0}\".format(female_survive.shape[0]))\n"
   ]
  },
  {
   "cell_type": "code",
   "execution_count": 16,
   "metadata": {},
   "outputs": [
    {
     "data": {
      "image/png": "[encoded data removed]",
      "text/plain": [
       "<Figure size 432x288 with 1 Axes>"
      ]
     },
     "metadata": {},
     "output_type": "display_data"
    }
   ],
   "source": [
    "locations = [1, 2]\n",
    "heights = [male_survive.shape[0], female_survive.shape[0]]\n",
    "labels = ['Masculino', 'Feminino']\n",
    "colors = ['b', 'r']\n",
    "plt.bar(locations, heights, tick_label=labels, color=colors, alpha=0.4)\n",
    "plt.title('Sexo dos Sobreviventes')\n",
    "plt.xlabel('Sexo')\n",
    "plt.ylabel('Quantidade de Sobreviventes');"
   ]
  },
  {
   "cell_type": "markdown",
   "metadata": {},
   "source": [
    "**Conclusão** - Podemos perceber que a grande maioria dos sobreviventes foram do sexo feminino. "
   ]
  },
  {
   "cell_type": "markdown",
   "metadata": {},
   "source": [
    "**Relação entre a Classe (1ª, 2ª, 3ª),  Sexo e Sobrevivência dos passageiros do Titanic. Qual será a classe que teve mais sobreviventes? **"
   ]
  },
  {
   "cell_type": "code",
   "execution_count": 17,
   "metadata": {},
   "outputs": [
    {
     "name": "stdout",
     "output_type": "stream",
     "text": [
      "Total de sobreviventes da 1ª Classe: 136 - Total Masculino: 45 - Total Feminino: 91\n",
      "Total de sobreviventes da 2ª Classe: 87 - Total Masculino: 17 - Total Feminino: 70\n",
      "Total de sobreviventes da 3ª Classe: 119 - Total Masculino: 47 - Total Feminino: 72\n"
     ]
    }
   ],
   "source": [
    "#Buscando a quantidade de sobreviventes - totais por classe - fazendo a relação também com o sexo\n",
    "\n",
    "#Achando a quantidade de sobreviventes por classe\n",
    "first = survive.query('pclass == 1')\n",
    "second = survive.query('pclass == 2')\n",
    "third = survive.query('pclass == 3')\n",
    "\n",
    "#Descobrindo a quantidade de sobreviventes por sexo e classe\n",
    "male_first = first.query(\"sex == 'male'\")\n",
    "female_first = first.query(\"sex == 'female'\")\n",
    "male_second = second.query(\"sex == 'male'\")\n",
    "female_second = second.query(\"sex == 'female'\")\n",
    "male_third = third.query(\"sex == 'male'\")\n",
    "female_third = third.query(\"sex == 'female'\")\n",
    "\n",
    "\n",
    "print(\"Total de sobreviventes da 1ª Classe: {0} - Total Masculino: {1} - Total Feminino: {2}\".format(first.shape[0], male_first.shape[0], female_first.shape[0]))\n",
    "print(\"Total de sobreviventes da 2ª Classe: {0} - Total Masculino: {1} - Total Feminino: {2}\".format(second.shape[0], male_second.shape[0], female_second.shape[0]))\n",
    "print(\"Total de sobreviventes da 3ª Classe: {0} - Total Masculino: {1} - Total Feminino: {2}\".format(third.shape[0], male_third.shape[0], female_third.shape[0]))\n",
    "\n"
   ]
  },
  {
   "cell_type": "code",
   "execution_count": 18,
   "metadata": {},
   "outputs": [
    {
     "data": {
      "image/png": "[encoded data removed]",
      "text/plain": [
       "<Figure size 432x288 with 1 Axes>"
      ]
     },
     "metadata": {},
     "output_type": "display_data"
    }
   ],
   "source": [
    "from matplotlib.ticker import MaxNLocator\n",
    "from collections import namedtuple\n",
    "\n",
    "fig, ax = plt.subplots()\n",
    "\n",
    "n_groups = 3\n",
    "\n",
    "index = np.arange(n_groups)\n",
    "bar_width = 0.35\n",
    "\n",
    "opacity = 0.4\n",
    "error_config = {'ecolor': '0.3'}\n",
    "\n",
    "total_male=[male_first.shape[0], male_second.shape[0], male_third.shape[0]]\n",
    "total_female=[female_first.shape[0], female_second.shape[0], female_third.shape[0]]\n",
    "\n",
    "std_male = [(male_first.shape[0]/10), (male_second.shape[0]/10), (male_third.shape[0]/10)]\n",
    "std_female = [(female_first.shape[0]/10), (female_second.shape[0]/10), (female_third.shape[0]/10)]\n",
    "\n",
    "rects1 = ax.bar(index, total_male, bar_width,\n",
    "                alpha=opacity, color='b', error_kw=error_config,\n",
    "                yerr=std_male, label='Masculino')\n",
    "\n",
    "rects2 = ax.bar(index + bar_width, total_female, bar_width,\n",
    "                alpha=opacity, color='r', error_kw=error_config,\n",
    "                yerr=std_female, label='Feminino')\n",
    "\n",
    "ax.set_xlabel('Classes')\n",
    "ax.set_ylabel('Quantidade de Sobreviventes')\n",
    "ax.set_title('Sobreviventes de cada Classe por Sexo')\n",
    "ax.set_xticks(index + bar_width / 2)\n",
    "ax.set_xticklabels(('1ª Classe', '2ª Classe', '3ª Classe'))\n",
    "ax.legend()\n",
    "\n",
    "fig.tight_layout()\n",
    "plt.show()"
   ]
  },
  {
   "cell_type": "code",
   "execution_count": 19,
   "metadata": {},
   "outputs": [
    {
     "data": {
      "image/png": "[encoded data removed]",
      "text/plain": [
       "<Figure size 432x288 with 1 Axes>"
      ]
     },
     "metadata": {},
     "output_type": "display_data"
    }
   ],
   "source": [
    "labels = '1ª Classe', '2ª Classe', '3ª Classe'\n",
    "total_class = [first.shape[0], second.shape[0], third.shape[0]]\n",
    "explode = (0.1, 0, 0)\n",
    "  \n",
    "fig1, ax1 = plt.subplots()\n",
    "  \n",
    "ax1.pie(total_class, explode=explode, labels=labels, autopct='%1.1f%%',\n",
    "        shadow=True, startangle=90)\n",
    "ax1.axis('equal')\n",
    "ax1.set_title('Sobreviventes por Sexo')\n",
    "  \n",
    "plt.show()"
   ]
  },
  {
   "cell_type": "markdown",
   "metadata": {},
   "source": [
    "** Conclusão** - Podemos perceber através dessa analise que em todas as classes o maior número de sobreviventes foram do sexo feminino. A classe que obteve maior número de sobreviventes foi a 1º Classe obtendo uma taxa de sobrevivência de 39,8%, enquanto a 2ª classe obteve uma taxa de 25,4% e a 3ª classe obteve uma taxa de 34,8%."
   ]
  },
  {
   "cell_type": "markdown",
   "metadata": {},
   "source": [
    "**Qual será a faixa etaria que teve mais sobreviventes?**"
   ]
  },
  {
   "cell_type": "code",
   "execution_count": 44,
   "metadata": {},
   "outputs": [
    {
     "name": "stdout",
     "output_type": "stream",
     "text": [
      "Total de sobreviventes crianças (até 17 anos): 61 sobreviventes\n",
      "Total de sobreviventes jovens (entre 18 e 30 anos): 157 sobreviventes\n",
      "Total de sobreviventes adultos (entre 31 e 50 anos): 102 sobreviventes\n",
      "Total de sobreviventes idosos (acima de 50 anos): 22 sobreviventes\n"
     ]
    }
   ],
   "source": [
    "#Encontrando as pessoas por faixa etaria \n",
    "crianca = survive.query('age <= 17')\n",
    "jovem = survive.query('17 < age <= 30')\n",
    "adulto = survive.query('30 < age <= 50')\n",
    "idoso = survive.query('age > 50')\n",
    "\n",
    "print(\"Total de sobreviventes crianças (até 17 anos): {0} sobreviventes\".format(crianca.shape[0]))\n",
    "print(\"Total de sobreviventes jovens (entre 18 e 30 anos): {0} sobreviventes\".format(jovem.shape[0]))\n",
    "print(\"Total de sobreviventes adultos (entre 31 e 50 anos): {0} sobreviventes\".format(adulto.shape[0]))\n",
    "print(\"Total de sobreviventes idosos (acima de 50 anos): {0} sobreviventes\".format(idoso.shape[0]))\n"
   ]
  },
  {
   "cell_type": "code",
   "execution_count": 47,
   "metadata": {},
   "outputs": [
    {
     "data": {
      "text/plain": [
       "Text(0.5,1,'Sobreviventes por Faixa Etaria')"
      ]
     },
     "execution_count": 47,
     "metadata": {},
     "output_type": "execute_result"
    },
    {
     "data": {
      "image/png": "[encoded data removed]",
      "text/plain": [
       "<Figure size 432x288 with 1 Axes>"
      ]
     },
     "metadata": {},
     "output_type": "display_data"
    }
   ],
   "source": [
    "locations = [1, 2,3,4]\n",
    "heights = [crianca.shape[0], jovem.shape[0], adulto.shape[0], idoso.shape[0]]\n",
    "labels = ['Crianças', 'Jovens', 'Adultos', 'Idosos']\n",
    "colors = ['green', 'red', 'blue', 'orange']\n",
    "plt.barh(locations, heights, align='center', color= colors, ecolor='black',tick_label=labels )\n",
    "plt.xlabel('Quantidade de Sobreviventes')\n",
    "plt.title('Sobreviventes por Faixa Etaria')"
   ]
  },
  {
   "cell_type": "code",
   "execution_count": 48,
   "metadata": {},
   "outputs": [
    {
     "data": {
      "image/png": "[encoded data removed]",
      "text/plain": [
       "<Figure size 432x288 with 1 Axes>"
      ]
     },
     "metadata": {},
     "output_type": "display_data"
    }
   ],
   "source": [
    "labels = 'Crianças', 'Jovens', 'Adultos', 'Idosos'\n",
    "total_class = [crianca.shape[0], jovem.shape[0], adulto.shape[0], idoso.shape[0]]\n",
    "explode = (0, 0, 0, 0)\n",
    "  \n",
    "fig1, ax1 = plt.subplots()\n",
    "  \n",
    "ax1.pie(total_class, explode=explode, labels=labels, autopct='%1.1f%%',\n",
    "        shadow=True, startangle=90)\n",
    "ax1.axis('equal')\n",
    "ax1.set_title('Sobreviventes por Faixa Etaria')\n",
    "  \n",
    "plt.show()"
   ]
  },
  {
   "cell_type": "code",
   "execution_count": 49,
   "metadata": {},
   "outputs": [
    {
     "data": {
      "image/png": "[encoded data removed]",
      "text/plain": [
       "<Figure size 432x288 with 1 Axes>"
      ]
     },
     "metadata": {},
     "output_type": "display_data"
    }
   ],
   "source": [
    "df_t.plot(kind='scatter', x='age', y='survived');"
   ]
  },
  {
   "cell_type": "markdown",
   "metadata": {},
   "source": [
    "**Conclusão** - Chegamos a conclusão que o grupo de jovens (idade entre 18 e 30 anos) teve uma taxa de sobrevivencia de 45,9%, sendo a faixa etária com melhor taxa de sobrevivência. \n",
    "<ul><li>Adultos (idade entre 31 e 50 anos) - 29,8%</li>\n",
    "<li>Crianças (abaixo de 18 anos) - 17,8% </li>\n",
    "<li>Idosos (acima de 50 anos) - 6,4%</li></ul>"
   ]
  },
  {
   "cell_type": "markdown",
   "metadata": {},
   "source": [
    "**Qual porto de embarque teve mais sobreviventes? **"
   ]
  },
  {
   "cell_type": "code",
   "execution_count": 55,
   "metadata": {},
   "outputs": [
    {
     "name": "stdout",
     "output_type": "stream",
     "text": [
      "Total de sobreviventes que embarcaram em Cherboorg: 93 sobreviventes\n",
      "Total de sobreviventes que embarcaram em Queenstown: 30 sobreviventes\n",
      "Total de sobreviventes que embarcaram em Southampton: 217 sobreviventes\n"
     ]
    }
   ],
   "source": [
    "#Achando a quantidade de sobreviventes por porto de embarque\n",
    "cherboorg = survive.query('embarked == \"C\"')\n",
    "queenstown = survive.query('embarked == \"Q\"')\n",
    "southampton = survive.query('embarked == \"S\"')\n",
    "\n",
    "print(\"Total de sobreviventes que embarcaram em Cherboorg: {0} sobreviventes\".format(cherboorg.shape[0]))\n",
    "print(\"Total de sobreviventes que embarcaram em Queenstown: {0} sobreviventes\".format(queenstown.shape[0]))\n",
    "print(\"Total de sobreviventes que embarcaram em Southampton: {0} sobreviventes\".format(southampton.shape[0]))"
   ]
  },
  {
   "cell_type": "code",
   "execution_count": 73,
   "metadata": {},
   "outputs": [
    {
     "data": {
      "image/png": "[encoded data removed]",
      "text/plain": [
       "<Figure size 432x288 with 1 Axes>"
      ]
     },
     "metadata": {},
     "output_type": "display_data"
    }
   ],
   "source": [
    "labels = 'Cherboorg', 'Queenstown', 'Southampton'\n",
    "heights = [cherboorg.shape[0], queenstown.shape[0], southampton.shape[0]]\n",
    "locations = [1, 2, 3]\n",
    "colors = ['red', 'green', 'yellow']\n",
    "plt.bar(locations, heights, tick_label=labels, color=colors)\n",
    "plt.title('Porto de Embarque dos Sobreviventes')\n",
    "plt.xlabel('Porto de Embarque')\n",
    "plt.ylabel('Quantidade de Sobreviventes');"
   ]
  },
  {
   "cell_type": "markdown",
   "metadata": {},
   "source": [
    "**Conclusão** - Tiveram mais sobreviventes que embarcaram do porto de Southampton. (Lembrando que nessa analise não foi considerado as pessoas que não tinham os seus portos de embarques registrados)"
   ]
  },
  {
   "cell_type": "markdown",
   "metadata": {},
   "source": [
    "<h1>Conclusão Final</h1>\n",
    "<h2>Foram 342 sobreviventes (38,4%)</h2>\n",
    "<p>Podemos concluir que as principais caracteristicas das pessoas que conseguiram se salvar no acidente são:</p>\n",
    "    <ul style=\"list-style: none;\">\n",
    "    <li><strong>Eram do sexo Feminino (233 sobreviventes)</strong></li>\n",
    "    <li><strong>Estavam na 1ª Classe (39,8% sobreviveram)</strong></li>\n",
    "    <li><strong>Eram jovens, entre 18 e 30 anos (45,9% sobreviveram)</strong></li>\n",
    "    <li><strong>Embarcaram no porto de Southampton (217 sobreviventes)</strong></li>\n",
    "    </ul>\n",
    "    <p><i>Outra curiosidade que podemos observar é que a taxa de sobrevivência dos idosos foi baixa e que as pessoas que estavam na 3ª \n",
    "    classe tiveram uma taxa alta de sobrevivência <strong>(34,8%)</strong> e também teve menor diferença entre a taxa de sobreviventes entre os sexos (masculino / feminino)</i></p>"
   ]
  },
  {
   "cell_type": "code",
   "execution_count": null,
   "metadata": {},
   "outputs": [],
   "source": []
  }
 ],
 "metadata": {
  "kernelspec": {
   "display_name": "Python 3",
   "language": "python",
   "name": "python3"
  },
  "language_info": {
   "codemirror_mode": {
    "name": "ipython",
    "version": 3
   },
   "file_extension": ".py",
   "mimetype": "text/x-python",
   "name": "python",
   "nbconvert_exporter": "python",
   "pygments_lexer": "ipython3",
   "version": "3.6.6"
  }
 },
 "nbformat": 4,
 "nbformat_minor": 2
}
